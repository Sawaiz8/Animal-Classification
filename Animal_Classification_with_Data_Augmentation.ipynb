{
  "nbformat": 4,
  "nbformat_minor": 0,
  "metadata": {
    "colab": {
      "provenance": [],
      "authorship_tag": "ABX9TyOb+SUDLTA7C2l9tc7iQWeE",
      "include_colab_link": true
    },
    "kernelspec": {
      "name": "python3",
      "display_name": "Python 3"
    },
    "language_info": {
      "name": "python"
    },
    "accelerator": "GPU",
    "gpuClass": "standard"
  },
  "cells": [
    {
      "cell_type": "markdown",
      "metadata": {
        "id": "view-in-github",
        "colab_type": "text"
      },
      "source": [
        "<a href=\"https://colab.research.google.com/github/Sawaiz8/Animal-Classification/blob/With-DATA-Aug-But-results-not-good/Animal_Classification_with_Data_Augmentation.ipynb\" target=\"_parent\"><img src=\"https://colab.research.google.com/assets/colab-badge.svg\" alt=\"Open In Colab\"/></a>"
      ]
    },
    {
      "cell_type": "code",
      "execution_count": null,
      "metadata": {
        "id": "1Z_i7pOeeiZc"
      },
      "outputs": [],
      "source": [
        "!mkdir -p ~/.kaggle\n"
      ]
    },
    {
      "cell_type": "code",
      "source": [
        "!cp kaggle.json ~/.kaggle/\n",
        "!kaggle datasets download -d utkarshsaxenadn/animal-image-classification-dataset"
      ],
      "metadata": {
        "colab": {
          "base_uri": "https://localhost:8080/"
        },
        "id": "t1RFylaJe2zI",
        "outputId": "b9422f84-9304-4534-fb21-c33c8fbccdc5"
      },
      "execution_count": null,
      "outputs": [
        {
          "output_type": "stream",
          "name": "stdout",
          "text": [
            "Warning: Your Kaggle API key is readable by other users on this system! To fix this, you can run 'chmod 600 /root/.kaggle/kaggle.json'\n",
            "Downloading animal-image-classification-dataset.zip to /content\n",
            " 99% 1.59G/1.61G [00:13<00:00, 172MB/s]\n",
            "100% 1.61G/1.61G [00:13<00:00, 129MB/s]\n"
          ]
        }
      ]
    },
    {
      "cell_type": "code",
      "source": [
        "import zipfile\n",
        "zip_ref = zipfile.ZipFile('/content/animal-image-classification-dataset.zip', 'r')\n",
        "zip_ref.extractall('/content')\n",
        "zip_ref.close()\n"
      ],
      "metadata": {
        "id": "BohWKDdye5LV"
      },
      "execution_count": null,
      "outputs": []
    },
    {
      "cell_type": "code",
      "source": [
        "import tensorflow as tf\n",
        "from tensorflow import keras\n",
        "from keras import Sequential\n",
        "from keras.layers import Dense,Conv2D, MaxPooling2D,Flatten, BatchNormalization,Dropout\n"
      ],
      "metadata": {
        "id": "xPPRkFQGfBar"
      },
      "execution_count": null,
      "outputs": []
    },
    {
      "cell_type": "code",
      "source": [
        "#Keras uses generators --> it divides the images into batches and loads only a batch in the RAM\n",
        "from keras import utils\n",
        "#it stores the training data in a numpy array"
      ],
      "metadata": {
        "id": "WcQTt_J9fd32"
      },
      "execution_count": null,
      "outputs": []
    },
    {
      "cell_type": "markdown",
      "source": [],
      "metadata": {
        "id": "rfyipP8FjAVc"
      }
    },
    {
      "cell_type": "code",
      "source": [
        "from keras.preprocessing.image import ImageDataGenerator"
      ],
      "metadata": {
        "id": "Kt1noiTrfioB"
      },
      "execution_count": null,
      "outputs": []
    },
    {
      "cell_type": "code",
      "source": [
        "#ImageDataGenerator\n",
        "batch_size = 16\n",
        "\n",
        "train_datagen = ImageDataGenerator(\n",
        "    rescale = 1/255,\n",
        "    shear_range= 0.2,\n",
        "    zoom_range =0.2,\n",
        "    horizontal_flip= True \n",
        ")\n",
        "\n",
        "test_datagen = ImageDataGenerator(\n",
        "    rescale = 1/255\n",
        ")\n",
        "\n",
        "train_generator = train_datagen.flow_from_directory(\n",
        "    '/content/Animal Classification/Animal Classification/Training Data',\n",
        "    target_size = (256,256),\n",
        "    batch_size = batch_size,\n",
        "    class_mode = 'sparse',\n",
        ")\n",
        "validation_generator = train_datagen.flow_from_directory(\n",
        "    '/content/Animal Classification/Animal Classification/Testing Data',\n",
        "    target_size = (256,256),\n",
        "    batch_size = batch_size,\n",
        "    class_mode = 'sparse'\n",
        ")\n",
        "\n",
        "\n"
      ],
      "metadata": {
        "colab": {
          "base_uri": "https://localhost:8080/"
        },
        "id": "ymFmL2-kfkn0",
        "outputId": "b47e1b57-7c99-46ba-9e5a-0ef2b7f17ef4"
      },
      "execution_count": null,
      "outputs": [
        {
          "output_type": "stream",
          "name": "stdout",
          "text": [
            "Found 7500 images belonging to 5 classes.\n",
            "Found 1202 images belonging to 5 classes.\n"
          ]
        }
      ]
    },
    {
      "cell_type": "code",
      "source": [
        "model = Sequential()\n",
        "model.add(Conv2D(32,\n",
        "                 kernel_size = (3,3),\n",
        "                 padding = 'valid',\n",
        "                 activation = 'relu',\n",
        "                 input_shape = (256,256, 3)\n",
        "  )\n",
        ")\n",
        "model.add(BatchNormalization())\n",
        "model.add(MaxPooling2D(pool_size = (2,2), strides = 2, padding = 'valid'))\n",
        "\n",
        "model.add(Conv2D(64,\n",
        "                 kernel_size = (3,3),\n",
        "                 padding = 'valid',\n",
        "                 activation = 'relu'\n",
        "  )\n",
        ")\n",
        "model.add(BatchNormalization())\n",
        "model.add(MaxPooling2D(pool_size = (2,2), strides = 2, padding = 'valid'))\n",
        "\n",
        "model.add(Conv2D(128,\n",
        "                 kernel_size = (3,3),\n",
        "                 padding = 'valid',\n",
        "                 activation = 'relu'\n",
        "  )\n",
        ")\n",
        "model.add(BatchNormalization())\n",
        "model.add(MaxPooling2D(pool_size = (2,2), strides = 2, padding = 'valid'))\n",
        "\n",
        "model.add(Flatten())\n",
        "\n",
        "model.add(Dense(128, activation = 'relu', kernel_regularizer= keras.regularizers.L2(l2=0.05)))\n",
        "model.add(Dropout(0.1))\n",
        "model.add(Dense(64, activation = 'relu', kernel_regularizer= keras.regularizers.L2(l2=0.05)))\n",
        "model.add(Dropout(0.1))\n",
        "model.add(Dense(5, activation = 'softmax'))"
      ],
      "metadata": {
        "id": "UFKXwZvYj3DX"
      },
      "execution_count": null,
      "outputs": []
    },
    {
      "cell_type": "code",
      "source": [
        "model.compile(optimizer = 'Adam', loss = 'sparse_categorical_crossentropy', metrics = ['accuracy'])"
      ],
      "metadata": {
        "id": "gbkNomSTkUvR"
      },
      "execution_count": null,
      "outputs": []
    },
    {
      "cell_type": "code",
      "source": [
        "history =model.fit_generator(train_generator, epochs = 10, validation_data = validation_generator)\n",
        "#My accuracy is lower for some reason. Have to investigate"
      ],
      "metadata": {
        "colab": {
          "base_uri": "https://localhost:8080/"
        },
        "id": "7bFZspcNkYsn",
        "outputId": "4b7a72eb-fc95-4253-f597-076ad3ffa3e6"
      },
      "execution_count": null,
      "outputs": [
        {
          "output_type": "stream",
          "name": "stderr",
          "text": [
            "<ipython-input-10-90b82c62ff00>:1: UserWarning: `Model.fit_generator` is deprecated and will be removed in a future version. Please use `Model.fit`, which supports generators.\n",
            "  history =model.fit_generator(train_generator, epochs = 10, validation_data = validation_generator)\n"
          ]
        },
        {
          "output_type": "stream",
          "name": "stdout",
          "text": [
            "Epoch 1/10\n",
            "469/469 [==============================] - 148s 297ms/step - loss: 15.7372 - accuracy: 0.3077 - val_loss: 5.5671 - val_accuracy: 0.3095\n",
            "Epoch 2/10\n",
            "469/469 [==============================] - 136s 290ms/step - loss: 4.6674 - accuracy: 0.3365 - val_loss: 3.4158 - val_accuracy: 0.4218\n",
            "Epoch 3/10\n",
            "469/469 [==============================] - 134s 286ms/step - loss: 3.7019 - accuracy: 0.4103 - val_loss: 4.4117 - val_accuracy: 0.3228\n",
            "Epoch 4/10\n",
            "469/469 [==============================] - 135s 289ms/step - loss: 3.1340 - accuracy: 0.4877 - val_loss: 2.6580 - val_accuracy: 0.5416\n",
            "Epoch 5/10\n",
            "469/469 [==============================] - 134s 287ms/step - loss: 2.6507 - accuracy: 0.5357 - val_loss: 2.8733 - val_accuracy: 0.4917\n",
            "Epoch 6/10\n",
            "469/469 [==============================] - 134s 286ms/step - loss: 2.5540 - accuracy: 0.5669 - val_loss: 2.9049 - val_accuracy: 0.5458\n",
            "Epoch 7/10\n",
            "469/469 [==============================] - 133s 285ms/step - loss: 2.6438 - accuracy: 0.5959 - val_loss: 2.7384 - val_accuracy: 0.4684\n",
            "Epoch 8/10\n",
            "469/469 [==============================] - 136s 289ms/step - loss: 2.6737 - accuracy: 0.6185 - val_loss: 3.1606 - val_accuracy: 0.5507\n",
            "Epoch 9/10\n",
            "469/469 [==============================] - 137s 291ms/step - loss: 2.7953 - accuracy: 0.6328 - val_loss: 7.3820 - val_accuracy: 0.3927\n",
            "Epoch 10/10\n",
            "469/469 [==============================] - 140s 298ms/step - loss: 2.8177 - accuracy: 0.6517 - val_loss: 4.5629 - val_accuracy: 0.4176\n"
          ]
        }
      ]
    },
    {
      "cell_type": "code",
      "source": [
        "import matplotlib.pyplot as plt\n",
        "plt.plot(history.history['accuracy'], color = 'red', label ='train')\n",
        "plt.plot(history.history['val_accuracy'], color = 'blue', label ='validation')\n",
        "plt.legend()\n",
        "plt.show()"
      ],
      "metadata": {
        "colab": {
          "base_uri": "https://localhost:8080/",
          "height": 265
        },
        "id": "PRbEp4q2qVIR",
        "outputId": "13488539-8def-4f09-ea22-63d665cdbf12"
      },
      "execution_count": null,
      "outputs": [
        {
          "output_type": "display_data",
          "data": {
            "text/plain": [
              "<Figure size 432x288 with 1 Axes>"
            ],
            "image/png": "[encoded data removed]"
          },
          "metadata": {
            "needs_background": "light"
          }
        }
      ]
    },
    {
      "cell_type": "code",
      "source": [
        "plt.plot(history.history['loss'], color = 'red', label ='train')\n",
        "plt.plot(history.history['val_loss'], color = 'blue', label ='validation')\n",
        "plt.legend()\n",
        "plt.show()"
      ],
      "metadata": {
        "colab": {
          "base_uri": "https://localhost:8080/",
          "height": 265
        },
        "id": "GiSJ83Eikr4A",
        "outputId": "b37cd4bf-a58b-49a0-b806-a7e969286f31"
      },
      "execution_count": null,
      "outputs": [
        {
          "output_type": "display_data",
          "data": {
            "text/plain": [
              "<Figure size 432x288 with 1 Axes>"
            ],
            "image/png": "[encoded data removed]"
          },
          "metadata": {
            "needs_background": "light"
          }
        }
      ]
    },
    {
      "cell_type": "code",
      "source": [],
      "metadata": {
        "id": "dc5mziPWrM5T"
      },
      "execution_count": null,
      "outputs": []
    }
  ]
}